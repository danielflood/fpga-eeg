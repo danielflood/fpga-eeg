{
 "cells": [
  {
   "cell_type": "code",
   "execution_count": 1,
   "id": "90ed853b",
   "metadata": {},
   "outputs": [
    {
     "ename": "ImportError",
     "evalue": "cannot import name 'BaseModel' from 'braindecode.models.base' (/tmp/home_dir/.local/lib/python3.10/site-packages/braindecode/models/base.py)",
     "output_type": "error",
     "traceback": [
      "\u001b[0;31m---------------------------------------------------------------------------\u001b[0m",
      "\u001b[0;31mImportError\u001b[0m                               Traceback (most recent call last)",
      "Cell \u001b[0;32mIn[1], line 9\u001b[0m\n\u001b[1;32m      6\u001b[0m \u001b[38;5;28;01mimport\u001b[39;00m\u001b[38;5;250m \u001b[39m\u001b[38;5;21;01mbrevitas\u001b[39;00m\u001b[38;5;21;01m.\u001b[39;00m\u001b[38;5;21;01monnx\u001b[39;00m\u001b[38;5;250m \u001b[39m\u001b[38;5;28;01mas\u001b[39;00m\u001b[38;5;250m \u001b[39m\u001b[38;5;21;01mbo\u001b[39;00m\n\u001b[1;32m      8\u001b[0m \u001b[38;5;66;03m#from braindecode.models.deep4 import Deep4Net\u001b[39;00m\n\u001b[0;32m----> 9\u001b[0m \u001b[38;5;28;01mfrom\u001b[39;00m\u001b[38;5;250m \u001b[39m\u001b[38;5;21;01mquantized_deep4\u001b[39;00m\u001b[38;5;250m \u001b[39m\u001b[38;5;28;01mimport\u001b[39;00m QuantDeep4Net\n\u001b[1;32m     10\u001b[0m \u001b[38;5;28;01mfrom\u001b[39;00m\u001b[38;5;250m \u001b[39m\u001b[38;5;21;01mbraindecode\u001b[39;00m\u001b[38;5;21;01m.\u001b[39;00m\u001b[38;5;21;01mtorch_ext\u001b[39;00m\u001b[38;5;21;01m.\u001b[39;00m\u001b[38;5;21;01moptimizers\u001b[39;00m\u001b[38;5;250m \u001b[39m\u001b[38;5;28;01mimport\u001b[39;00m AdamW\n\u001b[1;32m     11\u001b[0m \u001b[38;5;28;01mfrom\u001b[39;00m\u001b[38;5;250m \u001b[39m\u001b[38;5;21;01mbraindecode\u001b[39;00m\u001b[38;5;21;01m.\u001b[39;00m\u001b[38;5;21;01mtorch_ext\u001b[39;00m\u001b[38;5;21;01m.\u001b[39;00m\u001b[38;5;21;01mutil\u001b[39;00m\u001b[38;5;250m \u001b[39m\u001b[38;5;28;01mimport\u001b[39;00m set_random_seeds\n",
      "File \u001b[0;32m/home/dan/Projects/fpga-eeg/extern/finn/notebooks/quantized_deep4.py:9\u001b[0m\n\u001b[1;32m      6\u001b[0m \u001b[38;5;28;01mimport\u001b[39;00m\u001b[38;5;250m \u001b[39m\u001b[38;5;21;01mbrevitas\u001b[39;00m\u001b[38;5;21;01m.\u001b[39;00m\u001b[38;5;21;01mnn\u001b[39;00m\u001b[38;5;250m \u001b[39m\u001b[38;5;28;01mas\u001b[39;00m\u001b[38;5;250m \u001b[39m\u001b[38;5;21;01mqnn\u001b[39;00m\n\u001b[1;32m      7\u001b[0m \u001b[38;5;28;01mfrom\u001b[39;00m\u001b[38;5;250m \u001b[39m\u001b[38;5;21;01mbrevitas\u001b[39;00m\u001b[38;5;21;01m.\u001b[39;00m\u001b[38;5;21;01mquant\u001b[39;00m\u001b[38;5;250m \u001b[39m\u001b[38;5;28;01mimport\u001b[39;00m Int8Bias \u001b[38;5;28;01mas\u001b[39;00m BiasQuant\n\u001b[0;32m----> 9\u001b[0m \u001b[38;5;28;01mfrom\u001b[39;00m\u001b[38;5;250m \u001b[39m\u001b[38;5;21;01mbraindecode\u001b[39;00m\u001b[38;5;21;01m.\u001b[39;00m\u001b[38;5;21;01mmodels\u001b[39;00m\u001b[38;5;21;01m.\u001b[39;00m\u001b[38;5;21;01mbase\u001b[39;00m\u001b[38;5;250m \u001b[39m\u001b[38;5;28;01mimport\u001b[39;00m BaseModel\n\u001b[1;32m     10\u001b[0m \u001b[38;5;28;01mfrom\u001b[39;00m\u001b[38;5;250m \u001b[39m\u001b[38;5;21;01mbraindecode\u001b[39;00m\u001b[38;5;21;01m.\u001b[39;00m\u001b[38;5;21;01mtorch_ext\u001b[39;00m\u001b[38;5;21;01m.\u001b[39;00m\u001b[38;5;21;01mmodules\u001b[39;00m\u001b[38;5;250m \u001b[39m\u001b[38;5;28;01mimport\u001b[39;00m Expression, AvgPool2dWithConv\n\u001b[1;32m     11\u001b[0m \u001b[38;5;28;01mfrom\u001b[39;00m\u001b[38;5;250m \u001b[39m\u001b[38;5;21;01mbraindecode\u001b[39;00m\u001b[38;5;21;01m.\u001b[39;00m\u001b[38;5;21;01mtorch_ext\u001b[39;00m\u001b[38;5;21;01m.\u001b[39;00m\u001b[38;5;21;01mfunctions\u001b[39;00m\u001b[38;5;250m \u001b[39m\u001b[38;5;28;01mimport\u001b[39;00m identity\n",
      "\u001b[0;31mImportError\u001b[0m: cannot import name 'BaseModel' from 'braindecode.models.base' (/tmp/home_dir/.local/lib/python3.10/site-packages/braindecode/models/base.py)"
     ]
    }
   ],
   "source": [
    "# import h5py\n",
    "import onnx\n",
    "import torch\n",
    "import numpy as np\n",
    "import torch.nn.functional as F\n",
    "import brevitas.onnx as bo\n",
    "\n",
    "#from braindecode.models.deep4 import Deep4Net\n",
    "from quantized_deep4 import QuantDeep4Net\n",
    "from braindecode.torch_ext.optimizers import AdamW\n",
    "from braindecode.torch_ext.util import set_random_seeds"
   ]
  },
  {
   "cell_type": "code",
   "execution_count": 2,
   "id": "dcb67e0e",
   "metadata": {},
   "outputs": [
    {
     "name": "stdout",
     "output_type": "stream",
     "text": [
      "(400, 62, 1000, 1)\n",
      "(400,)\n"
     ]
    }
   ],
   "source": [
    "# --- Fake, learnable within-subject data (N,C,T,1) = (400,62,1000,1) ---\n",
    "\n",
    "\n",
    "rng = np.random.default_rng(42)\n",
    "N, C, T = 400, 62, 1000\n",
    "\n",
    "# Base noise\n",
    "X = rng.normal(0, 1, size=(N, C, T, 1)).astype(np.float32)\n",
    "\n",
    "# Balanced labels\n",
    "Y = np.concatenate([np.zeros(N//2, dtype=np.int64), np.ones(N - N//2, dtype=np.int64)])\n",
    "rng.shuffle(Y)\n",
    "\n",
    "# Make class 1 slightly structured so the model can learn:\n",
    "# add a faint sinusoid to first 5 channels for class-1 trials\n",
    "t = np.linspace(0, 1, T, dtype=np.float32)\n",
    "sinusoid = (0.25 * np.sin(2 * np.pi * 8 * t))  # 8 Hz bump\n",
    "mask = (Y == 1)\n",
    "X[mask, 0:5, :, 0] += sinusoid  # broadcast over time, first 5 chans\n",
    "\n",
    "# Optional: light per-channel standardization (keeps signal learnable)\n",
    "mean = X.mean(axis=(0,2,3), keepdims=True)\n",
    "std  = X.std(axis=(0,2,3), keepdims=True) + 1e-6\n",
    "X = ((X - mean) / std).astype(np.float32)\n",
    "\n",
    "# Hand back like your original get_data() call would\n",
    "# X, Y now match what your code expects:\n",
    "#   X.shape == (N, 62, 1000, 1)\n",
    "#   Y.shape == (N,)\n",
    "print(X.shape)\n",
    "print(Y.shape)"
   ]
  },
  {
   "cell_type": "code",
   "execution_count": 7,
   "id": "784a92a5",
   "metadata": {},
   "outputs": [
    {
     "name": "stderr",
     "output_type": "stream",
     "text": [
      "/tmp/home_dir/.local/lib/python3.10/site-packages/braindecode/experiments/experiment.py:518: FutureWarning: The frame.append method is deprecated and will be removed from pandas in a future version. Use pandas.concat instead.\n",
      "  self.epochs_df = self.epochs_df.append(row_dict, ignore_index=True)\n",
      "/tmp/home_dir/.local/lib/python3.10/site-packages/braindecode/experiments/loggers.py:23: FutureWarning: iteritems is deprecated and will be removed in a future version. Use .items instead.\n",
      "  for key, val in last_row.iteritems():\n",
      "/tmp/home_dir/.local/lib/python3.10/site-packages/braindecode/experiments/experiment.py:518: FutureWarning: The frame.append method is deprecated and will be removed from pandas in a future version. Use pandas.concat instead.\n",
      "  self.epochs_df = self.epochs_df.append(row_dict, ignore_index=True)\n",
      "/tmp/home_dir/.local/lib/python3.10/site-packages/braindecode/experiments/loggers.py:23: FutureWarning: iteritems is deprecated and will be removed in a future version. Use .items instead.\n",
      "  for key, val in last_row.iteritems():\n",
      "/tmp/home_dir/.local/lib/python3.10/site-packages/braindecode/experiments/experiment.py:518: FutureWarning: The frame.append method is deprecated and will be removed from pandas in a future version. Use pandas.concat instead.\n",
      "  self.epochs_df = self.epochs_df.append(row_dict, ignore_index=True)\n",
      "/tmp/home_dir/.local/lib/python3.10/site-packages/braindecode/experiments/loggers.py:23: FutureWarning: iteritems is deprecated and will be removed in a future version. Use .items instead.\n",
      "  for key, val in last_row.iteritems():\n",
      "/tmp/home_dir/.local/lib/python3.10/site-packages/braindecode/experiments/experiment.py:518: FutureWarning: The frame.append method is deprecated and will be removed from pandas in a future version. Use pandas.concat instead.\n",
      "  self.epochs_df = self.epochs_df.append(row_dict, ignore_index=True)\n",
      "/tmp/home_dir/.local/lib/python3.10/site-packages/braindecode/experiments/loggers.py:23: FutureWarning: iteritems is deprecated and will be removed in a future version. Use .items instead.\n",
      "  for key, val in last_row.iteritems():\n",
      "/tmp/home_dir/.local/lib/python3.10/site-packages/braindecode/experiments/experiment.py:518: FutureWarning: The frame.append method is deprecated and will be removed from pandas in a future version. Use pandas.concat instead.\n",
      "  self.epochs_df = self.epochs_df.append(row_dict, ignore_index=True)\n",
      "/tmp/home_dir/.local/lib/python3.10/site-packages/braindecode/experiments/loggers.py:23: FutureWarning: iteritems is deprecated and will be removed in a future version. Use .items instead.\n",
      "  for key, val in last_row.iteritems():\n",
      "/tmp/home_dir/.local/lib/python3.10/site-packages/braindecode/experiments/experiment.py:518: FutureWarning: The frame.append method is deprecated and will be removed from pandas in a future version. Use pandas.concat instead.\n",
      "  self.epochs_df = self.epochs_df.append(row_dict, ignore_index=True)\n",
      "/tmp/home_dir/.local/lib/python3.10/site-packages/braindecode/experiments/loggers.py:23: FutureWarning: iteritems is deprecated and will be removed in a future version. Use .items instead.\n",
      "  for key, val in last_row.iteritems():\n",
      "/tmp/home_dir/.local/lib/python3.10/site-packages/braindecode/experiments/experiment.py:518: FutureWarning: The frame.append method is deprecated and will be removed from pandas in a future version. Use pandas.concat instead.\n",
      "  self.epochs_df = self.epochs_df.append(row_dict, ignore_index=True)\n",
      "/tmp/home_dir/.local/lib/python3.10/site-packages/braindecode/experiments/loggers.py:23: FutureWarning: iteritems is deprecated and will be removed in a future version. Use .items instead.\n",
      "  for key, val in last_row.iteritems():\n",
      "/tmp/home_dir/.local/lib/python3.10/site-packages/braindecode/experiments/experiment.py:518: FutureWarning: The frame.append method is deprecated and will be removed from pandas in a future version. Use pandas.concat instead.\n",
      "  self.epochs_df = self.epochs_df.append(row_dict, ignore_index=True)\n",
      "/tmp/home_dir/.local/lib/python3.10/site-packages/braindecode/experiments/loggers.py:23: FutureWarning: iteritems is deprecated and will be removed in a future version. Use .items instead.\n",
      "  for key, val in last_row.iteritems():\n",
      "/tmp/home_dir/.local/lib/python3.10/site-packages/braindecode/experiments/experiment.py:518: FutureWarning: The frame.append method is deprecated and will be removed from pandas in a future version. Use pandas.concat instead.\n",
      "  self.epochs_df = self.epochs_df.append(row_dict, ignore_index=True)\n",
      "/tmp/home_dir/.local/lib/python3.10/site-packages/braindecode/experiments/loggers.py:23: FutureWarning: iteritems is deprecated and will be removed in a future version. Use .items instead.\n",
      "  for key, val in last_row.iteritems():\n",
      "/tmp/home_dir/.local/lib/python3.10/site-packages/braindecode/experiments/experiment.py:518: FutureWarning: The frame.append method is deprecated and will be removed from pandas in a future version. Use pandas.concat instead.\n",
      "  self.epochs_df = self.epochs_df.append(row_dict, ignore_index=True)\n",
      "/tmp/home_dir/.local/lib/python3.10/site-packages/braindecode/experiments/loggers.py:23: FutureWarning: iteritems is deprecated and will be removed in a future version. Use .items instead.\n",
      "  for key, val in last_row.iteritems():\n",
      "/tmp/home_dir/.local/lib/python3.10/site-packages/braindecode/experiments/experiment.py:518: FutureWarning: The frame.append method is deprecated and will be removed from pandas in a future version. Use pandas.concat instead.\n",
      "  self.epochs_df = self.epochs_df.append(row_dict, ignore_index=True)\n",
      "/tmp/home_dir/.local/lib/python3.10/site-packages/braindecode/experiments/loggers.py:23: FutureWarning: iteritems is deprecated and will be removed in a future version. Use .items instead.\n",
      "  for key, val in last_row.iteritems():\n"
     ]
    },
    {
     "data": {
      "text/plain": [
       "<braindecode.experiments.experiment.Experiment at 0x78e5dd1002b0>"
      ]
     },
     "execution_count": 7,
     "metadata": {},
     "output_type": "execute_result"
    }
   ],
   "source": [
    "\n",
    "X_train, Y_train = X[50:250], Y[50:250]\n",
    "X_val, Y_val = X[250:300], Y[250:300]\n",
    "X_test, Y_test = X[300:], Y[300:]\n",
    "\n",
    "n_classes = 2\n",
    "in_chans = X.shape[1]\n",
    "\n",
    "# final_conv_length = auto ensures we only get a single output in the time dimension\n",
    "model = QuantDeep4Net(in_chans=in_chans, n_classes=n_classes,\n",
    "                 input_time_length=X.shape[2],\n",
    "                 final_conv_length=1, split_first_layer=False, quant_bit_width=2)#.cuda()"
   ]
  },
  {
   "cell_type": "code",
   "execution_count": null,
   "id": "67a0b0e0-304d-40f4-92fb-e6479b4a77fd",
   "metadata": {},
   "outputs": [],
   "source": [
    "# make the network so parameters exist\n",
    "net = model.create_network()\n",
    "\n",
    "# Count parameters\n",
    "num_params = sum(p.numel() for p in net.parameters() if p.requires_grad)\n",
    "print(f\"Trainable parameters: {num_params:,}\")\n",
    "\n",
    "# If you also want frozen ones:\n",
    "total_params = sum(p.numel() for p in net.parameters())\n",
    "print(f\"Total parameters (incl. frozen): {total_params:,}\")"
   ]
  },
  {
   "cell_type": "code",
   "execution_count": null,
   "id": "0ef07a06-8faf-4aea-a004-3e92a97126fa",
   "metadata": {},
   "outputs": [],
   "source": [
    "# these are good values for the deep model\n",
    "optimizer = AdamW(model.parameters(), lr=1 * 0.01, weight_decay=0.5*0.001)\n",
    "model.compile(loss=F.nll_loss, optimizer=optimizer, iterator_seed=1, )"
   ]
  },
  {
   "cell_type": "code",
   "execution_count": null,
   "id": "ffde4ed3-8a87-4f45-90b6-3db0c3ee46c2",
   "metadata": {},
   "outputs": [],
   "source": [
    "model.fit(X_train, Y_train, epochs=10, batch_size=16, scheduler='cosine', \n",
    "        validation_data=(X_val, Y_val))#, remember_best_column='valid_loss')"
   ]
  },
  {
   "cell_type": "code",
   "execution_count": 8,
   "id": "a06b9852",
   "metadata": {},
   "outputs": [
    {
     "name": "stdout",
     "output_type": "stream",
     "text": [
      "{'loss': 0.6972942352294922, 'misclass': 0.52, 'runtime': 0.0002849102020263672}\n"
     ]
    },
    {
     "name": "stderr",
     "output_type": "stream",
     "text": [
      "/tmp/home_dir/.local/lib/python3.10/site-packages/braindecode/experiments/experiment.py:518: FutureWarning: The frame.append method is deprecated and will be removed from pandas in a future version. Use pandas.concat instead.\n",
      "  self.epochs_df = self.epochs_df.append(row_dict, ignore_index=True)\n"
     ]
    }
   ],
   "source": [
    "test_loss = model.evaluate(X_test, Y_test)\n",
    "print(test_loss)"
   ]
  },
  {
   "cell_type": "code",
   "execution_count": 6,
   "id": "dd3adfa3-db51-44e1-a9de-e94391371449",
   "metadata": {},
   "outputs": [],
   "source": [
    "import torch\n",
    "from brevitas.export import export_qonnx\n",
    "from qonnx.util.cleanup import cleanup as qonnx_cleanup\n",
    "from qonnx.core.modelwrapper import ModelWrapper\n",
    "from finn.transformation.qonnx.convert_qonnx_to_finn import ConvertQONNXtoFINN\n",
    "\n",
    "ready_model_filename = \"auto_mai_subj6_ready.onnx\"\n",
    "\n",
    "# CPU + eval + dummy input\n",
    "model.network.cpu().eval()\n",
    "input_t = torch.randn(1, 62, 1000, 1)\n",
    "\n",
    "# Export → clean\n",
    "export_qonnx(model.network, export_path=ready_model_filename, input_t=input_t)\n",
    "qonnx_cleanup(ready_model_filename, out_file=ready_model_filename)\n",
    "\n",
    "# Convert QONNX → FINN (no explicit dtype needed)\n",
    "mw = ModelWrapper(ready_model_filename)\n",
    "mw = mw.transform(ConvertQONNXtoFINN())\n",
    "mw.save(ready_model_filename)\n"
   ]
  }
 ],
 "metadata": {
  "kernelspec": {
   "display_name": "Python 3 (ipykernel)",
   "language": "python",
   "name": "python3"
  },
  "language_info": {
   "codemirror_mode": {
    "name": "ipython",
    "version": 3
   },
   "file_extension": ".py",
   "mimetype": "text/x-python",
   "name": "python",
   "nbconvert_exporter": "python",
   "pygments_lexer": "ipython3",
   "version": "3.10.12"
  }
 },
 "nbformat": 4,
 "nbformat_minor": 5
}
