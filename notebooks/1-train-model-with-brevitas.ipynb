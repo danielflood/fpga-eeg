{
 "cells": [
  {
   "cell_type": "code",
   "execution_count": 1,
   "id": "90ed853b",
   "metadata": {},
   "outputs": [],
   "source": [
    "import h5py\n",
    "import torch\n",
    "import warnings\n",
    "import torch.nn.functional as F\n",
    "\n",
    "from os.path import join as pjoin\n",
    "from models.quantized_deep4 import QuantDeep4Net\n",
    "from braindecode.torch_ext.optimizers import AdamW\n",
    "from braindecode.torch_ext.util import set_random_seeds\n",
    "from brevitas.export import export_qonnx\n",
    "from qonnx.util.cleanup import cleanup as qonnx_cleanup\n",
    "from qonnx.core.modelwrapper import ModelWrapper\n",
    "from finn.transformation.qonnx.convert_qonnx_to_finn import ConvertQONNXtoFINN"
   ]
  },
  {
   "cell_type": "markdown",
   "id": "8daba8ab",
   "metadata": {},
   "source": [
    "## Load dataset"
   ]
  },
  {
   "cell_type": "code",
   "execution_count": 2,
   "id": "6a2bf00d-89ea-4970-80d5-c67b66ca8c1a",
   "metadata": {},
   "outputs": [],
   "source": [
    "datapath = \"./dataset/KU_mi_smt.h5\"\n",
    "subj = 3\n",
    "\n",
    "\n",
    "set_random_seeds(seed=20200205, cuda=False)"
   ]
  },
  {
   "cell_type": "code",
   "execution_count": 3,
   "id": "f3adb061-68f1-45e2-940d-d1b6df7ac530",
   "metadata": {},
   "outputs": [],
   "source": [
    "dfile = h5py.File(datapath, 'r')\n",
    "dpath = '/s' + str(subj)\n",
    "X = dfile[pjoin(dpath, 'X')][:]\n",
    "Y = dfile[pjoin(dpath, 'Y')][:]\n",
    "dfile.close()"
   ]
  },
  {
   "cell_type": "code",
   "execution_count": 4,
   "id": "81307ffd-b915-40bc-bad9-1a24b02eba6e",
   "metadata": {},
   "outputs": [],
   "source": [
    "X_train, Y_train = X[:200], Y[:200]\n",
    "X_val, Y_val = X[200:300], Y[200:300]\n",
    "X_test, Y_test = X[300:], Y[300:]\n",
    "n_classes = 2\n",
    "in_chans = X.shape[1]"
   ]
  },
  {
   "cell_type": "code",
   "execution_count": 5,
   "id": "e5400407-8b76-4687-9531-94ecb702e68b",
   "metadata": {},
   "outputs": [
    {
     "name": "stdout",
     "output_type": "stream",
     "text": [
      "(400, 62, 1000) (400,)\n"
     ]
    }
   ],
   "source": [
    "print(X.shape, Y.shape)"
   ]
  },
  {
   "cell_type": "markdown",
   "id": "5faaa9f5",
   "metadata": {},
   "source": [
    "## Define Model"
   ]
  },
  {
   "cell_type": "code",
   "execution_count": 6,
   "id": "784a92a5",
   "metadata": {},
   "outputs": [],
   "source": [
    "# final_conv_length = auto ensures we only get a single output in the time dimension\n",
    "model = QuantDeep4Net(in_chans=in_chans, n_classes=n_classes,\n",
    "                 input_time_length=X.shape[2],\n",
    "                 final_conv_length=1, split_first_layer=False, act_bit_width=2, weight_bit_width=2)#.cuda()"
   ]
  },
  {
   "cell_type": "code",
   "execution_count": 7,
   "id": "0ef07a06-8faf-4aea-a004-3e92a97126fa",
   "metadata": {},
   "outputs": [],
   "source": [
    "# these are good values for the deep model\n",
    "optimizer = AdamW(model.parameters(), lr=1 * 0.01, weight_decay=0.5*0.001)\n",
    "model.compile(loss=F.nll_loss, optimizer=optimizer, iterator_seed=1, )"
   ]
  },
  {
   "cell_type": "markdown",
   "id": "0af720f5",
   "metadata": {},
   "source": [
    "## Train Model"
   ]
  },
  {
   "cell_type": "code",
   "execution_count": 8,
   "id": "ffde4ed3-8a87-4f45-90b6-3db0c3ee46c2",
   "metadata": {},
   "outputs": [
    {
     "name": "stdout",
     "output_type": "stream",
     "text": [
      "CPU times: user 17min 43s, sys: 1min 4s, total: 18min 48s\n",
      "Wall time: 4min 42s\n"
     ]
    }
   ],
   "source": [
    "%%time\n",
    "with warnings.catch_warnings():\n",
    "    warnings.simplefilter('ignore')\n",
    "    model.fit(X_train, Y_train, epochs=200, batch_size=16, scheduler='cosine', \n",
    "            validation_data=(X_val, Y_val), remember_best_column='valid_loss')"
   ]
  },
  {
   "cell_type": "markdown",
   "id": "2d047d87",
   "metadata": {},
   "source": [
    "## Test Model"
   ]
  },
  {
   "cell_type": "code",
   "execution_count": 9,
   "id": "a06b9852",
   "metadata": {},
   "outputs": [
    {
     "name": "stdout",
     "output_type": "stream",
     "text": [
      "CPU times: user 822 ms, sys: 35.9 ms, total: 858 ms\n",
      "Wall time: 213 ms\n"
     ]
    }
   ],
   "source": [
    "%%time\n",
    "with warnings.catch_warnings():\n",
    "    warnings.simplefilter('ignore')\n",
    "    test_loss = model.evaluate(X_test, Y_test)"
   ]
  },
  {
   "cell_type": "code",
   "execution_count": null,
   "id": "3495d25a-8833-4825-b8d6-1098dc1624f7",
   "metadata": {},
   "outputs": [
    {
     "name": "stdout",
     "output_type": "stream",
     "text": [
      "{'loss': 0.6183669567108154, 'misclass': 0.31999999999999995, 'runtime': 0.00039458274841308594}\n"
     ]
    }
   ],
   "source": [
    "# Make note of this as it should be what you observe on the FPGA (Accuracy = 1 - Missclass)\n",
    "print(test_loss)"
   ]
  },
  {
   "cell_type": "markdown",
   "id": "b0b95833",
   "metadata": {},
   "source": [
    "## Export Model to QONNX/FINN"
   ]
  },
  {
   "cell_type": "code",
   "execution_count": 11,
   "id": "80ae468e-fbc9-4fa5-a0e9-8bb81dbfa97b",
   "metadata": {},
   "outputs": [],
   "source": [
    "model_dir = \"./onnx\"\n",
    "model_file = model_dir + \"/model_s3.onnx\""
   ]
  },
  {
   "cell_type": "code",
   "execution_count": 12,
   "id": "dd3adfa3-db51-44e1-a9de-e94391371449",
   "metadata": {},
   "outputs": [],
   "source": [
    "# CPU + eval + dummy input\n",
    "model.network.cpu().eval()\n",
    "input_t = torch.randn(1, 62, 1000, 1)\n",
    "\n",
    "# Export model to QONNX\n",
    "export_qonnx(model.network, export_path=model_file, input_t=input_t);"
   ]
  },
  {
   "cell_type": "code",
   "execution_count": 13,
   "id": "9dc4edbf-332a-47b9-89b3-8d4df484ce0c",
   "metadata": {},
   "outputs": [],
   "source": [
    "# Clean up the QONNX model\n",
    "clean_file = model_dir + \"/model_s3_clean.onnx\"\n",
    "qonnx_cleanup(model_file, out_file=clean_file)\n",
    "\n",
    "# Convert QONNX → FINN\n",
    "finn_file = model_dir + \"/model_s3_finn.onnx\"\n",
    "mw = ModelWrapper(clean_file)\n",
    "mw = mw.transform(ConvertQONNXtoFINN())\n",
    "mw.save(finn_file)"
   ]
  }
 ],
 "metadata": {
  "kernelspec": {
   "display_name": "Python 3 (ipykernel)",
   "language": "python",
   "name": "python3"
  },
  "language_info": {
   "codemirror_mode": {
    "name": "ipython",
    "version": 3
   },
   "file_extension": ".py",
   "mimetype": "text/x-python",
   "name": "python",
   "nbconvert_exporter": "python",
   "pygments_lexer": "ipython3",
   "version": "3.10.12"
  }
 },
 "nbformat": 4,
 "nbformat_minor": 5
}
