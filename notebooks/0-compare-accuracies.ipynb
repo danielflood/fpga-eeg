{
 "cells": [
  {
   "cell_type": "code",
   "execution_count": 2,
   "id": "27cfa6a8-d1d9-4373-a610-6af66a18b76d",
   "metadata": {},
   "outputs": [],
   "source": [
    "import os\n",
    "import sys\n",
    "import h5py\n",
    "import torch\n",
    "import warnings\n",
    "import torch.nn.functional as F\n",
    "\n",
    "from os.path import join as pjoin\n",
    "from models.quantized_deep4 import QuantDeep4Net\n",
    "from braindecode.models.deep4 import Deep4Net\n",
    "from braindecode.torch_ext.optimizers import AdamW\n",
    "from braindecode.torch_ext.util import set_random_seeds"
   ]
  },
  {
   "cell_type": "code",
   "execution_count": 7,
   "id": "f2ed5b3e-07c2-4e6b-b095-51d1d308ea97",
   "metadata": {},
   "outputs": [],
   "source": [
    "datapath = \"./dataset/KU_mi_smt.h5\"\n",
    "set_random_seeds(seed=20200205, cuda=False)\n",
    "n_classes = 2"
   ]
  },
  {
   "cell_type": "code",
   "execution_count": 8,
   "id": "f7fdd813-35ba-4b1c-b3a2-ae9d90f7e5c0",
   "metadata": {},
   "outputs": [],
   "source": [
    "dfile = h5py.File(datapath, 'r')"
   ]
  },
  {
   "cell_type": "code",
   "execution_count": 9,
   "id": "a75f28b3-1e87-4af9-be50-51875c32f8ea",
   "metadata": {},
   "outputs": [],
   "source": [
    "def get_data(subj):\n",
    "    dpath = '/s' + str(subj)\n",
    "    X = dfile[pjoin(dpath, 'X')][:]\n",
    "    Y = dfile[pjoin(dpath, 'Y')][:]\n",
    "    return X, Y"
   ]
  },
  {
   "cell_type": "code",
   "execution_count": null,
   "id": "8f066481-ba1a-4a36-9112-c89b5f47cda3",
   "metadata": {},
   "outputs": [],
   "source": [
    "subj = 3\n",
    "X, Y = get_data(subj)\n",
    "X_train, Y_train = X[:200], Y[:200]\n",
    "X_val, Y_val = X[200:300], Y[200:300]\n",
    "X_test, Y_test = X[300:], Y[300:]\n",
    "\n",
    "suffix = 's' + str(subj)\n",
    "n_classes = 2\n",
    "in_chans = X.shape[1]\n",
    "\n",
    "# final_conv_length = auto ensures we only get a single output in the time dimension\n",
    "model = Deep4Net(in_chans=in_chans, n_classes=n_classes,\n",
    "                 input_time_length=X.shape[2],\n",
    "                 final_conv_length='auto')\n",
    "\n",
    "# these are good values for the deep model\n",
    "optimizer = AdamW(model.parameters(), lr=1 * 0.01, weight_decay=0.5*0.001)\n",
    "model.compile(loss=F.nll_loss, optimizer=optimizer, iterator_seed=1, )\n",
    "\n",
    "model.fit(X_train, Y_train, epochs=200, batch_size=16, scheduler='cosine',\n",
    "          validation_data=(X_val, Y_val), remember_best_column='valid_loss')\n",
    "\n",
    "test_loss = model.evaluate(X_test, Y_test)\n",
    "# model.epochs_df.to_csv(pjoin(outpath, 'epochs_' + suffix + '.csv'))\n",
    "# with open(pjoin(outpath, 'test_subj_' + str(subj) + '.json'), 'w') as f:\n",
    "#     json.dump(test_loss, f)"
   ]
  },
  {
   "cell_type": "code",
   "execution_count": 14,
   "id": "e2e4f675-16c4-46d8-862f-14b5ab620cad",
   "metadata": {},
   "outputs": [
    {
     "name": "stdout",
     "output_type": "stream",
     "text": [
      "{'loss': 0.5699537992477417, 'misclass': 0.31000000000000005, 'runtime': 0.0003535747528076172}\n"
     ]
    }
   ],
   "source": [
    "print(test_loss)"
   ]
  },
  {
   "cell_type": "code",
   "execution_count": null,
   "id": "d03408c6-94b8-4354-b5c2-8c4d4fafb793",
   "metadata": {},
   "outputs": [],
   "source": [
    "for subj in subjs:\n",
    "    # Get data for within-subject classification\n",
    "    X, Y = get_data(subj)\n",
    "    X_train, Y_train = X[:200], Y[:200]\n",
    "    X_val, Y_val = X[200:300], Y[200:300]\n",
    "    X_test, Y_test = X[300:], Y[300:]\n",
    "\n",
    "    suffix = 's' + str(subj)\n",
    "    n_classes = 2\n",
    "    in_chans = X.shape[1]\n",
    "\n",
    "    # final_conv_length = auto ensures we only get a single output in the time dimension\n",
    "    model = Deep4Net(in_chans=in_chans, n_classes=n_classes,\n",
    "                     input_time_length=X.shape[2],\n",
    "                     final_conv_length='auto').cuda()\n",
    "\n",
    "    # these are good values for the deep model\n",
    "    optimizer = AdamW(model.parameters(), lr=1 * 0.01, weight_decay=0.5*0.001)\n",
    "    model.compile(loss=F.nll_loss, optimizer=optimizer, iterator_seed=1, )\n",
    "\n",
    "    model.fit(X_train, Y_train, epochs=200, batch_size=16, scheduler='cosine',\n",
    "              validation_data=(X_val, Y_val), remember_best_column='valid_loss')\n",
    "\n",
    "    test_loss = model.evaluate(X_test, Y_test)\n",
    "    model.epochs_df.to_csv(pjoin(outpath, 'epochs_' + suffix + '.csv'))\n",
    "    with open(pjoin(outpath, 'test_subj_' + str(subj) + '.json'), 'w') as f:\n",
    "        json.dump(test_loss, f)\n"
   ]
  },
  {
   "cell_type": "code",
   "execution_count": null,
   "id": "bf4ccc76-e93f-4f95-9c0e-57c513a6fedf",
   "metadata": {},
   "outputs": [],
   "source": []
  },
  {
   "cell_type": "code",
   "execution_count": null,
   "id": "a8bfa891-6c49-4b62-b939-72da1bdb32b8",
   "metadata": {},
   "outputs": [],
   "source": [
    "# dfile.close()"
   ]
  }
 ],
 "metadata": {
  "kernelspec": {
   "display_name": "Python 3 (ipykernel)",
   "language": "python",
   "name": "python3"
  },
  "language_info": {
   "codemirror_mode": {
    "name": "ipython",
    "version": 3
   },
   "file_extension": ".py",
   "mimetype": "text/x-python",
   "name": "python",
   "nbconvert_exporter": "python",
   "pygments_lexer": "ipython3",
   "version": "3.10.12"
  }
 },
 "nbformat": 4,
 "nbformat_minor": 5
}
