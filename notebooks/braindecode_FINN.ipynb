{
 "cells": [
  {
   "cell_type": "code",
   "execution_count": null,
   "id": "d5513a1f",
   "metadata": {},
   "outputs": [],
   "source": [
    "import argparse\n",
    "import json\n",
    "import logging\n",
    "import sys\n",
    "from os.path import join as pjoin\n",
    "\n",
    "import h5py\n",
    "import onnx\n",
    "import torch\n",
    "import torch.nn.functional as F\n",
    "\n",
    "#from braindecode.models.deep4 import Deep4Net\n",
    "from quantized_deep4 import QuantDeep4Net\n",
    "from braindecode.torch_ext.optimizers import AdamW\n",
    "from braindecode.torch_ext.util import set_random_seeds"
   ]
  },
  {
   "cell_type": "code",
   "execution_count": null,
   "id": "117a2f76",
   "metadata": {},
   "outputs": [],
   "source": [
    "datapath = \"./processed_data/KU_mi_smt.h5\"\n",
    "dfile = h5py.File(datapath, 'r')\n",
    "subj = 6\n",
    "#torch.cuda.set_device(0)\n",
    "set_random_seeds(seed=20200205, cuda=False)"
   ]
  },
  {
   "cell_type": "code",
   "execution_count": null,
   "id": "48b07962",
   "metadata": {},
   "outputs": [],
   "source": [
    "def get_data(subj):\n",
    "    dpath = '/s' + str(subj)\n",
    "    X = dfile[pjoin(dpath, 'X')]\n",
    "    Y = dfile[pjoin(dpath, 'Y')]\n",
    "    return X[:], Y[:]"
   ]
  },
  {
   "cell_type": "code",
   "execution_count": null,
   "id": "cce1692d",
   "metadata": {},
   "outputs": [],
   "source": [
    "# Get data for within-subject classification\n",
    "X, Y = get_data(subj)\n",
    "#print('Shape: ', X.shape)\n",
    "X_train, Y_train = X[50:250], Y[50:250]\n",
    "X_val, Y_val = X[250:300], Y[250:300]\n",
    "X_test, Y_test = X[300:], Y[300:]\n",
    "\n",
    "suffix = 's' + str(subj)\n",
    "n_classes = 2\n",
    "in_chans = X.shape[1]\n",
    "\n",
    "# final_conv_length = auto ensures we only get a single output in the time dimension\n",
    "model = QuantDeep4Net(in_chans=in_chans, n_classes=n_classes,\n",
    "                 input_time_length=X.shape[2],\n",
    "                 final_conv_length=1, split_first_layer=False, quant_bit_width=2)#.cuda()\n",
    "\n",
    "# these are good values for the deep model\n",
    "optimizer = AdamW(model.parameters(), lr=1 * 0.01, weight_decay=0.5*0.001)\n",
    "model.compile(loss=F.nll_loss, optimizer=optimizer, iterator_seed=1, )\n",
    "\n",
    "model.fit(X_train, Y_train, epochs=5, batch_size=16, scheduler='cosine', \n",
    "        validation_data=(X_val, Y_val))#, remember_best_column='valid_loss')"
   ]
  },
  {
   "cell_type": "code",
   "execution_count": null,
   "id": "a24dd0c4",
   "metadata": {},
   "outputs": [],
   "source": [
    "test_loss = model.evaluate(X_test, Y_test)\n",
    "print(test_loss)"
   ]
  },
  {
   "cell_type": "code",
   "execution_count": null,
   "id": "b3dfbffb",
   "metadata": {},
   "outputs": [],
   "source": [
    "from finn.util.basic import make_build_dir\n",
    "from finn.util.visualization import showInNetron\n",
    "    \n",
    "build_dir = \"/workspace/finn\""
   ]
  },
  {
   "cell_type": "code",
   "execution_count": null,
   "id": "70c4ef22",
   "metadata": {},
   "outputs": [],
   "source": [
    "import brevitas.onnx as bo\n",
    "\n",
    "bo.export_finn_onnx(model.network.cpu(), export_path=build_dir + \"/auto_mai_subj6_export.onnx\", input_t=torch.randn(1, 62, 1000, 1))"
   ]
  },
  {
   "cell_type": "code",
   "execution_count": null,
   "id": "5fcc0373",
   "metadata": {},
   "outputs": [],
   "source": [
    "showInNetron(build_dir + \"/auto_mai_subj6_export.onnx\")"
   ]
  },
  {
   "cell_type": "code",
   "execution_count": null,
   "id": "20b809fa",
   "metadata": {},
   "outputs": [],
   "source": [
    "from finn.util.inference_cost import inference_cost\n",
    "import json\n",
    "\n",
    "cost_dict_path = build_dir + \"/auto_mai_subj6_inference_cost.json\"\n",
    "\n",
    "inference_cost(build_dir + \"/auto_mai_subj6_export.onnx\", output_json=cost_dict_path, \n",
    "               output_onnx=build_dir + \"/auto_mai_subj6_inference_cost.onnx\",\n",
    "               preprocess=True, discount_sparsity=True)"
   ]
  },
  {
   "cell_type": "code",
   "execution_count": null,
   "id": "f1b33fc8",
   "metadata": {},
   "outputs": [],
   "source": [
    "import finn.builder.build_dataflow as build\n",
    "import finn.builder.build_dataflow_config as build_cfg\n",
    "import os\n",
    "import shutil\n",
    "\n",
    "model_file = build_dir + \"/auto_mai_subj6_export.onnx\"\n",
    "\n",
    "estimates_output_dir = \"output_estimates_only\"\n",
    "\n",
    "#Delete previous run results if exist\n",
    "if os.path.exists(estimates_output_dir):\n",
    "    shutil.rmtree(estimates_output_dir)\n",
    "    print(\"Previous run results deleted!\")\n",
    "\n",
    "\n",
    "cfg_estimates = build.DataflowBuildConfig(\n",
    "    output_dir          = estimates_output_dir,\n",
    "    mvau_wwidth_max     = 20,\n",
    "    target_fps          = 1500,\n",
    "    synth_clk_period_ns = 10.0,\n",
    "    board               = \"ZCU104\",\n",
    "    #fpga_part           = \"xc7z020clg400-1\",\n",
    "    steps               = build_cfg.estimate_only_dataflow_steps,\n",
    "    generate_outputs=[\n",
    "        build_cfg.DataflowOutputType.ESTIMATE_REPORTS,\n",
    "    ]\n",
    ")"
   ]
  },
  {
   "cell_type": "code",
   "execution_count": null,
   "id": "1c4f989e",
   "metadata": {},
   "outputs": [],
   "source": [
    "%%time\n",
    "build.build_dataflow_cfg(model_file, cfg_estimates)"
   ]
  },
  {
   "cell_type": "code",
   "execution_count": null,
   "id": "7bcf66ed",
   "metadata": {},
   "outputs": [],
   "source": [
    "! ls {estimates_output_dir}"
   ]
  },
  {
   "cell_type": "code",
   "execution_count": null,
   "id": "4679e482",
   "metadata": {},
   "outputs": [],
   "source": [
    "! ls {estimates_output_dir}/report"
   ]
  },
  {
   "cell_type": "code",
   "execution_count": null,
   "id": "de03d3c1",
   "metadata": {},
   "outputs": [],
   "source": [
    "! cat {estimates_output_dir}/report/estimate_network_performance.json"
   ]
  },
  {
   "cell_type": "code",
   "execution_count": null,
   "id": "c6e86a64",
   "metadata": {},
   "outputs": [],
   "source": [
    "import json\n",
    "def read_json_dict(filename):\n",
    "    with open(filename, \"r\") as f:\n",
    "        ret = json.load(f)\n",
    "    return ret"
   ]
  },
  {
   "cell_type": "code",
   "execution_count": null,
   "id": "3009eadf",
   "metadata": {},
   "outputs": [],
   "source": [
    "read_json_dict(estimates_output_dir + \"/report/estimate_layer_cycles.json\")"
   ]
  },
  {
   "cell_type": "code",
   "execution_count": null,
   "id": "e96b3171",
   "metadata": {},
   "outputs": [],
   "source": [
    "read_json_dict(estimates_output_dir + \"/report/estimate_layer_resources.json\")"
   ]
  },
  {
   "cell_type": "code",
   "execution_count": null,
   "id": "90575d76",
   "metadata": {},
   "outputs": [],
   "source": [
    "showInNetron(estimates_output_dir + '/intermediate_models/step_tidy_up.onnx')"
   ]
  },
  {
   "cell_type": "code",
   "execution_count": null,
   "id": "a77f2f9e",
   "metadata": {},
   "outputs": [],
   "source": [
    "showInNetron(estimates_output_dir + '/intermediate_models/step_streamline.onnx')"
   ]
  },
  {
   "cell_type": "code",
   "execution_count": null,
   "id": "47e0aa47",
   "metadata": {},
   "outputs": [],
   "source": [
    "showInNetron(estimates_output_dir + '/intermediate_models/step_convert_to_hls.onnx')"
   ]
  },
  {
   "cell_type": "code",
   "execution_count": null,
   "id": "d0acb7f6",
   "metadata": {},
   "outputs": [],
   "source": [
    "showInNetron(estimates_output_dir + '/intermediate_models/step_create_dataflow_partition.onnx')"
   ]
  },
  {
   "cell_type": "code",
   "execution_count": null,
   "id": "c8a0902f",
   "metadata": {},
   "outputs": [],
   "source": [
    "import finn.builder.build_dataflow as build\n",
    "import finn.builder.build_dataflow_config as build_cfg\n",
    "import os\n",
    "import shutil\n",
    "\n",
    "model_file = build_dir + \"/auto_mai_subj6_export.onnx\"\n",
    "\n",
    "rtlsim_output_dir = \"output_ipstitch_ooc_rtlsim\"\n",
    "\n",
    "#Delete previous run results if exist\n",
    "if os.path.exists(rtlsim_output_dir):\n",
    "    shutil.rmtree(rtlsim_output_dir)\n",
    "    print(\"Previous run results deleted!\")\n",
    "\n",
    "cfg_stitched_ip = build.DataflowBuildConfig(\n",
    "    output_dir          = rtlsim_output_dir,\n",
    "    mvau_wwidth_max     = 20,\n",
    "    target_fps          = 1500,\n",
    "    synth_clk_period_ns = 10.0,\n",
    "    board               = \"ZCU104\",\n",
    "    shell_flow_type     = build_cfg.ShellFlowType.VIVADO_ZYNQ,\n",
    "    generate_outputs=[\n",
    "        build_cfg.DataflowOutputType.STITCHED_IP,\n",
    "        build_cfg.DataflowOutputType.RTLSIM_PERFORMANCE,\n",
    "        '''Out of context synthesis fails for this model. Reason currently unknown.'''\n",
    "        #build_cfg.DataflowOutputType.OOC_SYNTH,\n",
    "    ]\n",
    ")"
   ]
  },
  {
   "cell_type": "code",
   "execution_count": null,
   "id": "8fd9489b",
   "metadata": {},
   "outputs": [],
   "source": [
    "%%time\n",
    "build.build_dataflow_cfg(model_file, cfg_stitched_ip)"
   ]
  },
  {
   "cell_type": "code",
   "execution_count": null,
   "id": "d4ad011a",
   "metadata": {},
   "outputs": [],
   "source": [
    "! ls {rtlsim_output_dir}/stitched_ip"
   ]
  },
  {
   "cell_type": "code",
   "execution_count": null,
   "id": "e07e27a8",
   "metadata": {},
   "outputs": [],
   "source": [
    "! ls {rtlsim_output_dir}/report"
   ]
  },
  {
   "cell_type": "code",
   "execution_count": null,
   "id": "97711122",
   "metadata": {},
   "outputs": [],
   "source": [
    "! cat {rtlsim_output_dir}/report/estimate_layer_resources_hls.json"
   ]
  },
  {
   "cell_type": "code",
   "execution_count": null,
   "id": "097218f6",
   "metadata": {},
   "outputs": [],
   "source": [
    "! cat {rtlsim_output_dir}/report/rtlsim_performance.json"
   ]
  },
  {
   "cell_type": "code",
   "execution_count": null,
   "id": "4de606a0",
   "metadata": {},
   "outputs": [],
   "source": [
    "! cat {rtlsim_output_dir}/final_hw_config.json"
   ]
  },
  {
   "cell_type": "code",
   "execution_count": null,
   "id": "fc43484d",
   "metadata": {},
   "outputs": [],
   "source": [
    "import finn.builder.build_dataflow as build\n",
    "import finn.builder.build_dataflow_config as build_cfg\n",
    "import os\n",
    "import shutil\n",
    "\n",
    "model_file = build_dir + \"/auto_mai_subj6_export.onnx\"\n",
    "\n",
    "final_output_dir = \"output_2bit_1500fps\"\n",
    "\n",
    "#Delete previous run results if exist\n",
    "if os.path.exists(final_output_dir):\n",
    "    shutil.rmtree(final_output_dir)\n",
    "    print(\"Previous run results deleted!\")\n",
    "\n",
    "cfg = build.DataflowBuildConfig(\n",
    "    output_dir          = final_output_dir,\n",
    "    mvau_wwidth_max     = 20,\n",
    "    target_fps          = 1500,\n",
    "    synth_clk_period_ns = 10.0,\n",
    "    board               = \"ZCU104\",\n",
    "    shell_flow_type     = build_cfg.ShellFlowType.VIVADO_ZYNQ,\n",
    "    generate_outputs=[\n",
    "        build_cfg.DataflowOutputType.BITFILE,\n",
    "        build_cfg.DataflowOutputType.PYNQ_DRIVER,\n",
    "        build_cfg.DataflowOutputType.DEPLOYMENT_PACKAGE,\n",
    "    ]\n",
    ")"
   ]
  },
  {
   "cell_type": "code",
   "execution_count": null,
   "id": "ea05e919",
   "metadata": {},
   "outputs": [],
   "source": [
    "%%time\n",
    "build.build_dataflow_cfg(model_file, cfg)"
   ]
  },
  {
   "cell_type": "code",
   "execution_count": null,
   "id": "bcfea3e0",
   "metadata": {},
   "outputs": [],
   "source": [
    "! ls {final_output_dir}/bitfile"
   ]
  },
  {
   "cell_type": "code",
   "execution_count": null,
   "id": "5a6eb094",
   "metadata": {},
   "outputs": [],
   "source": [
    "! ls {final_output_dir}/driver"
   ]
  },
  {
   "cell_type": "code",
   "execution_count": null,
   "id": "77452ad5",
   "metadata": {},
   "outputs": [],
   "source": [
    "! ls {final_output_dir}/report"
   ]
  },
  {
   "cell_type": "code",
   "execution_count": null,
   "id": "8d138075",
   "metadata": {},
   "outputs": [],
   "source": [
    "! ls {final_output_dir}/deploy"
   ]
  },
  {
   "cell_type": "code",
   "execution_count": null,
   "id": "775bb742",
   "metadata": {},
   "outputs": [],
   "source": []
  }
 ],
 "metadata": {
  "kernelspec": {
   "display_name": "Python 3",
   "language": "python",
   "name": "python3"
  },
  "language_info": {
   "codemirror_mode": {
    "name": "ipython",
    "version": 3
   },
   "file_extension": ".py",
   "mimetype": "text/x-python",
   "name": "python",
   "nbconvert_exporter": "python",
   "pygments_lexer": "ipython3",
   "version": "3.8.5"
  }
 },
 "nbformat": 4,
 "nbformat_minor": 5
}
