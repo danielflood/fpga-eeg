{
 "cells": [
  {
   "cell_type": "code",
   "execution_count": 1,
   "id": "4c64ae54-c1a6-40e1-987f-a60fb8a79d25",
   "metadata": {},
   "outputs": [
    {
     "name": "stdout",
     "output_type": "stream",
     "text": [
      "Previous run results deleted!\n"
     ]
    }
   ],
   "source": [
    "import finn.builder.build_dataflow as build\n",
    "import finn.builder.build_dataflow_config as build_cfg\n",
    "import os\n",
    "import shutil\n",
    "\n",
    "model_dir = os.environ['FINN_ROOT'] + \"/notebooks\"\n",
    "model_file = model_dir + \"/auto_mai_subj6_ready.onnx\"\n",
    "\n",
    "out_dir = \"output3\"\n",
    "\n",
    "#Delete previous run results if exist\n",
    "if os.path.exists(out_dir):\n",
    "    shutil.rmtree(out_dir)\n",
    "    print(\"Previous run results deleted!\")\n",
    "\n",
    "\n",
    "cfg = build.DataflowBuildConfig(\n",
    "    output_dir=out_dir,\n",
    "    # mvau_wwidth_max=36,\n",
    "    target_fps=150,\n",
    "    synth_clk_period_ns=10.0,\n",
    "    # You can keep board=\"ZCU104\" if you like, but the key is fpga_part:\n",
    "    board=\"ZCU104\",\n",
    "    fpga_part=\"xczu7ev-ffvc1156-2-e\",          # <-- explicit part resolves the error\n",
    "    shell_flow_type=build_cfg.ShellFlowType.VIVADO_ZYNQ,\n",
    "    generate_outputs=[\n",
    "        build_cfg.DataflowOutputType.BITFILE,\n",
    "        build_cfg.DataflowOutputType.PYNQ_DRIVER,\n",
    "        build_cfg.DataflowOutputType.DEPLOYMENT_PACKAGE,\n",
    "    ],\n",
    "    save_intermediate_models=True,              # optional but helpful\n",
    ")"
   ]
  },
  {
   "cell_type": "code",
   "execution_count": 2,
   "id": "4ae01303-22f1-4319-91e6-478577beb733",
   "metadata": {},
   "outputs": [
    {
     "name": "stdout",
     "output_type": "stream",
     "text": [
      "Building dataflow accelerator from /home/dan/Projects/fpga-eeg/extern/finn/notebooks/auto_mai_subj6_ready.onnx\n",
      "Intermediate outputs will be generated in /tmp/finn_dev_dan\n",
      "Final outputs will be generated in output2\n",
      "Build log is at output2/build_dataflow.log\n",
      "Running step: step_qonnx_to_finn [1/19]\n",
      "Running step: step_tidy_up [2/19]\n",
      "Running step: step_streamline [3/19]\n",
      "Running step: step_convert_to_hw [4/19]\n",
      "Running step: step_create_dataflow_partition [5/19]\n",
      "Running step: step_specialize_layers [6/19]\n",
      "Running step: step_target_fps_parallelization [7/19]\n",
      "Running step: step_apply_folding_config [8/19]\n",
      "Running step: step_minimize_bit_width [9/19]\n",
      "Running step: step_generate_estimate_reports [10/19]\n",
      "Running step: step_hw_codegen [11/19]\n",
      "Running step: step_hw_ipgen [12/19]\n",
      "Running step: step_set_fifo_depths [13/19]\n",
      "Running step: step_create_stitched_ip [14/19]\n",
      "Running step: step_measure_rtlsim_performance [15/19]\n",
      "Running step: step_out_of_context_synthesis [16/19]\n",
      "Running step: step_synthesize_bitfile [17/19]\n",
      "Running step: step_make_pynq_driver [18/19]\n",
      "Running step: step_deployment_package [19/19]\n",
      "Completed successfully\n",
      "CPU times: user 16.9 s, sys: 632 ms, total: 17.5 s\n",
      "Wall time: 6h 21min 3s\n"
     ]
    },
    {
     "data": {
      "text/plain": [
       "0"
      ]
     },
     "execution_count": 2,
     "metadata": {},
     "output_type": "execute_result"
    }
   ],
   "source": [
    "%%time\n",
    "build.build_dataflow_cfg(model_file, cfg)"
   ]
  },
  {
   "cell_type": "code",
   "execution_count": 3,
   "id": "bff962fb-38ec-4710-a7f6-8e008c06c307",
   "metadata": {},
   "outputs": [],
   "source": [
    "import finn.builder.build_dataflow as build\n",
    "import finn.builder.build_dataflow_config as build_cfg\n",
    "import os\n",
    "import shutil\n",
    "\n",
    "model_dir = os.environ['FINN_ROOT'] + \"/notebooks/output2/intermediate_models\"\n",
    "model_file = model_dir + \"/step_out_of_context_synthesis.onnx\"\n",
    "\n",
    "out_dir = \"output2\"\n",
    "\n",
    "cfg = build.DataflowBuildConfig(\n",
    "    output_dir=out_dir,\n",
    "    start_step=\"step_synthesize_bitfile\",\n",
    "    # mvau_wwidth_max=36,\n",
    "    target_fps=150,\n",
    "    synth_clk_period_ns=10.0,\n",
    "    # You can keep board=\"ZCU104\" if you like, but the key is fpga_part:\n",
    "    board=\"ZCU104\",\n",
    "    fpga_part=\"xczu7ev-ffvc1156-2-e\",          # <-- explicit part resolves the error\n",
    "    shell_flow_type=build_cfg.ShellFlowType.VIVADO_ZYNQ,\n",
    "    generate_outputs=[\n",
    "        build_cfg.DataflowOutputType.BITFILE,\n",
    "        build_cfg.DataflowOutputType.PYNQ_DRIVER,\n",
    "        build_cfg.DataflowOutputType.DEPLOYMENT_PACKAGE,\n",
    "    ],\n",
    "    save_intermediate_models=True,              # optional but helpful\n",
    ")"
   ]
  },
  {
   "cell_type": "code",
   "execution_count": null,
   "id": "d9ea619e-dcb9-4f11-935d-7f0136454700",
   "metadata": {},
   "outputs": [
    {
     "name": "stdout",
     "output_type": "stream",
     "text": [
      "Building dataflow accelerator from intermediate checkpointoutput2/intermediate_models/step_out_of_context_synthesis.onnx\n",
      "Intermediate outputs will be generated in /tmp/finn_dev_dan\n",
      "Final outputs will be generated in output2\n",
      "Build log is at output2/build_dataflow.log\n",
      "Running step: step_synthesize_bitfile [1/3]\n",
      "> \u001b[0;32m/home/dan/Projects/fpga-eeg/extern/finn/src/finn/transformation/fpgadataflow/make_zynq_proj.py\u001b[0m(269)\u001b[0;36mapply\u001b[0;34m()\u001b[0m\n",
      "\u001b[0;32m    267 \u001b[0;31m        \u001b[0mbitfile_name\u001b[0m \u001b[0;34m=\u001b[0m \u001b[0mvivado_pynq_proj_dir\u001b[0m \u001b[0;34m+\u001b[0m \u001b[0;34m\"/finn_zynq_link.runs/impl_1/top_wrapper.bit\"\u001b[0m\u001b[0;34m\u001b[0m\u001b[0;34m\u001b[0m\u001b[0m\n",
      "\u001b[0m\u001b[0;32m    268 \u001b[0;31m        \u001b[0;32mif\u001b[0m \u001b[0;32mnot\u001b[0m \u001b[0mos\u001b[0m\u001b[0;34m.\u001b[0m\u001b[0mpath\u001b[0m\u001b[0;34m.\u001b[0m\u001b[0misfile\u001b[0m\u001b[0;34m(\u001b[0m\u001b[0mbitfile_name\u001b[0m\u001b[0;34m)\u001b[0m\u001b[0;34m:\u001b[0m\u001b[0;34m\u001b[0m\u001b[0;34m\u001b[0m\u001b[0m\n",
      "\u001b[0m\u001b[0;32m--> 269 \u001b[0;31m            raise Exception(\n",
      "\u001b[0m\u001b[0;32m    270 \u001b[0;31m                \u001b[0;34m\"Synthesis failed, no bitfile found. Check logs under %s\"\u001b[0m \u001b[0;34m%\u001b[0m \u001b[0mvivado_pynq_proj_dir\u001b[0m\u001b[0;34m\u001b[0m\u001b[0;34m\u001b[0m\u001b[0m\n",
      "\u001b[0m\u001b[0;32m    271 \u001b[0;31m            )\n",
      "\u001b[0m\n"
     ]
    },
    {
     "name": "stderr",
     "output_type": "stream",
     "text": [
      "Traceback (most recent call last):\n",
      "  File \"/home/dan/Projects/fpga-eeg/extern/finn/src/finn/builder/build_dataflow.py\", line 158, in build_dataflow_cfg\n",
      "    model = transform_step(model, cfg)\n",
      "  File \"/home/dan/Projects/fpga-eeg/extern/finn/src/finn/builder/build_dataflow_steps.py\", line 796, in step_synthesize_bitfile\n",
      "    model = model.transform(\n",
      "  File \"/home/dan/Projects/fpga-eeg/extern/finn/deps/qonnx/src/qonnx/core/modelwrapper.py\", line 140, in transform\n",
      "    (transformed_model, model_was_changed) = transformation.apply(transformed_model)\n",
      "  File \"/home/dan/Projects/fpga-eeg/extern/finn/src/finn/transformation/fpgadataflow/make_zynq_proj.py\", line 352, in apply\n",
      "    model = model.transform(MakeZYNQProject(self.platform, enable_debug=self.enable_debug))\n",
      "  File \"/home/dan/Projects/fpga-eeg/extern/finn/deps/qonnx/src/qonnx/core/modelwrapper.py\", line 140, in transform\n",
      "    (transformed_model, model_was_changed) = transformation.apply(transformed_model)\n",
      "  File \"/home/dan/Projects/fpga-eeg/extern/finn/src/finn/transformation/fpgadataflow/make_zynq_proj.py\", line 269, in apply\n",
      "    raise Exception(\n",
      "Exception: Synthesis failed, no bitfile found. Check logs under /tmp/finn_dev_dan/vivado_zynq_proj_2kln4ca7\n"
     ]
    }
   ],
   "source": [
    "%%time\n",
    "build.build_dataflow_cfg(model_file, cfg)"
   ]
  }
 ],
 "metadata": {
  "kernelspec": {
   "display_name": "Python 3 (ipykernel)",
   "language": "python",
   "name": "python3"
  },
  "language_info": {
   "codemirror_mode": {
    "name": "ipython",
    "version": 3
   },
   "file_extension": ".py",
   "mimetype": "text/x-python",
   "name": "python",
   "nbconvert_exporter": "python",
   "pygments_lexer": "ipython3",
   "version": "3.10.12"
  }
 },
 "nbformat": 4,
 "nbformat_minor": 5
}
