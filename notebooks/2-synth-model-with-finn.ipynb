{
 "cells": [
  {
   "cell_type": "code",
   "execution_count": 1,
   "id": "17233ccc-fa2b-4ff1-aacf-6c430eaea488",
   "metadata": {},
   "outputs": [],
   "source": [
    "import os\n",
    "import shutil\n",
    "import finn.builder.build_dataflow as build\n",
    "import finn.builder.build_dataflow_config as build_cfg"
   ]
  },
  {
   "cell_type": "code",
   "execution_count": 2,
   "id": "a0563c72-ec59-4cb0-b398-973c186a824c",
   "metadata": {},
   "outputs": [],
   "source": [
    "model_dir = os.environ['ROOT_DIR'] + \"/onnx\"\n",
    "model_file = model_dir + \"/model_s6.onnx\"\n",
    "\n",
    "out_dir = os.environ['ROOT_DIR'] + \"/outputs/test_output\""
   ]
  },
  {
   "cell_type": "code",
   "execution_count": 3,
   "id": "4999fce9-dcc6-4089-9690-ac54b070dfc9",
   "metadata": {},
   "outputs": [
    {
     "name": "stdout",
     "output_type": "stream",
     "text": [
      "Previous run results deleted!\n"
     ]
    }
   ],
   "source": [
    "#Delete previous run results if exist\n",
    "if os.path.exists(out_dir):\n",
    "    shutil.rmtree(out_dir)\n",
    "    print(\"Previous run results deleted!\")"
   ]
  },
  {
   "cell_type": "code",
   "execution_count": 4,
   "id": "4c64ae54-c1a6-40e1-987f-a60fb8a79d25",
   "metadata": {},
   "outputs": [],
   "source": [
    "cfg = build.DataflowBuildConfig(\n",
    "    output_dir=out_dir,\n",
    "    mvau_wwidth_max=36,\n",
    "    target_fps=150,\n",
    "    synth_clk_period_ns=10.0,\n",
    "    board=\"Pynq-Z2\",\n",
    "    fpga_part=\"xc7z020clg400-1\",\n",
    "    shell_flow_type=build_cfg.ShellFlowType.VIVADO_ZYNQ,\n",
    "    generate_outputs=[\n",
    "        build_cfg.DataflowOutputType.BITFILE,\n",
    "        build_cfg.DataflowOutputType.PYNQ_DRIVER,\n",
    "        build_cfg.DataflowOutputType.DEPLOYMENT_PACKAGE,\n",
    "    ],\n",
    "    save_intermediate_models=True,\n",
    ")"
   ]
  },
  {
   "cell_type": "code",
   "execution_count": 5,
   "id": "4ae01303-22f1-4319-91e6-478577beb733",
   "metadata": {},
   "outputs": [
    {
     "name": "stdout",
     "output_type": "stream",
     "text": [
      "Building dataflow accelerator from /home/dan/Projects/fpga-eeg/onnx/model_s6.onnx\n",
      "Intermediate outputs will be generated in /tmp/finn_dev_dan\n",
      "Final outputs will be generated in /home/dan/Projects/fpga-eeg/outputs/test_output\n",
      "Build log is at /home/dan/Projects/fpga-eeg/outputs/test_output/build_dataflow.log\n",
      "Running step: step_qonnx_to_finn [1/19]\n",
      "Running step: step_tidy_up [2/19]\n",
      "Running step: step_streamline [3/19]\n",
      "Running step: step_convert_to_hw [4/19]\n",
      "Running step: step_create_dataflow_partition [5/19]\n",
      "Running step: step_specialize_layers [6/19]\n",
      "Running step: step_target_fps_parallelization [7/19]\n",
      "Running step: step_apply_folding_config [8/19]\n",
      "Running step: step_minimize_bit_width [9/19]\n",
      "Running step: step_generate_estimate_reports [10/19]\n",
      "Running step: step_hw_codegen [11/19]\n",
      "Running step: step_hw_ipgen [12/19]\n",
      "Running step: step_set_fifo_depths [13/19]\n",
      "Running step: step_create_stitched_ip [14/19]\n",
      "Running step: step_measure_rtlsim_performance [15/19]\n",
      "Running step: step_out_of_context_synthesis [16/19]\n",
      "Running step: step_synthesize_bitfile [17/19]\n",
      "Running step: step_make_pynq_driver [18/19]\n",
      "Running step: step_deployment_package [19/19]\n",
      "Completed successfully\n",
      "CPU times: user 19.4 s, sys: 712 ms, total: 20.1 s\n",
      "Wall time: 6h 20min 45s\n"
     ]
    },
    {
     "data": {
      "text/plain": [
       "0"
      ]
     },
     "execution_count": 5,
     "metadata": {},
     "output_type": "execute_result"
    }
   ],
   "source": [
    "%%time\n",
    "build.build_dataflow_cfg(model_file, cfg)"
   ]
  }
 ],
 "metadata": {
  "kernelspec": {
   "display_name": "Python 3 (ipykernel)",
   "language": "python",
   "name": "python3"
  },
  "language_info": {
   "codemirror_mode": {
    "name": "ipython",
    "version": 3
   },
   "file_extension": ".py",
   "mimetype": "text/x-python",
   "name": "python",
   "nbconvert_exporter": "python",
   "pygments_lexer": "ipython3",
   "version": "3.10.12"
  }
 },
 "nbformat": 4,
 "nbformat_minor": 5
}
