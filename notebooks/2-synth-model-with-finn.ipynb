{
 "cells": [
  {
   "cell_type": "markdown",
   "id": "ecacc86f-9146-46b6-a273-130796b44a02",
   "metadata": {},
   "source": [
    "# Synthesize Model with FINN\n",
    "In this part of the demo we're going to load the model we exported in the last step and run it through FINN. Afterwards we'll copy the generated bitfile into the pynq-deployment folder and zip it so that you can upload it to your PYNQ board."
   ]
  },
  {
   "cell_type": "code",
   "execution_count": 1,
   "id": "17233ccc-fa2b-4ff1-aacf-6c430eaea488",
   "metadata": {},
   "outputs": [],
   "source": [
    "import os\n",
    "import shutil\n",
    "import finn.builder.build_dataflow as build\n",
    "import finn.builder.build_dataflow_config as build_cfg"
   ]
  },
  {
   "cell_type": "code",
   "execution_count": 2,
   "id": "a0563c72-ec59-4cb0-b398-973c186a824c",
   "metadata": {},
   "outputs": [],
   "source": [
    "model_dir = \"./onnx\"\n",
    "model_file = model_dir + \"/model_s3_finn.onnx\"\n",
    "\n",
    "out_dir = \"./outputs/example_output\""
   ]
  },
  {
   "cell_type": "code",
   "execution_count": 3,
   "id": "4999fce9-dcc6-4089-9690-ac54b070dfc9",
   "metadata": {},
   "outputs": [],
   "source": [
    "#Delete previous run results if exist\n",
    "if os.path.exists(out_dir):\n",
    "    shutil.rmtree(out_dir)\n",
    "    print(\"Previous run results deleted!\")"
   ]
  },
  {
   "cell_type": "code",
   "execution_count": 4,
   "id": "4c64ae54-c1a6-40e1-987f-a60fb8a79d25",
   "metadata": {},
   "outputs": [],
   "source": [
    "# I'm using the Arty Z720 board. However, larger devices can achieve higher throughput (e.g. Zynq Ultrascale+)\n",
    "cfg = build.DataflowBuildConfig(\n",
    "    output_dir=out_dir,\n",
    "    mvau_wwidth_max=36,\n",
    "    target_fps=150,\n",
    "    synth_clk_period_ns=11.0,\n",
    "    board=\"Pynq-Z2\",\n",
    "    fpga_part=\"xc7z020clg400-1\",\n",
    "    shell_flow_type=build_cfg.ShellFlowType.VIVADO_ZYNQ,\n",
    "    generate_outputs=[\n",
    "        build_cfg.DataflowOutputType.BITFILE\n",
    "    ],\n",
    "    save_intermediate_models=True,\n",
    ")"
   ]
  },
  {
   "cell_type": "code",
   "execution_count": 5,
   "id": "4ae01303-22f1-4319-91e6-478577beb733",
   "metadata": {},
   "outputs": [
    {
     "name": "stdout",
     "output_type": "stream",
     "text": [
      "Building dataflow accelerator from ./onnx/model_s3_finn.onnx\n",
      "Intermediate outputs will be generated in /tmp/finn_dev_dan\n",
      "Final outputs will be generated in ./outputs/example_output\n",
      "Build log is at ./outputs/example_output/build_dataflow.log\n",
      "Running step: step_qonnx_to_finn [1/19]\n",
      "Running step: step_tidy_up [2/19]\n",
      "Running step: step_streamline [3/19]\n",
      "Running step: step_convert_to_hw [4/19]\n",
      "Running step: step_create_dataflow_partition [5/19]\n",
      "Running step: step_specialize_layers [6/19]\n",
      "Running step: step_target_fps_parallelization [7/19]\n",
      "Running step: step_apply_folding_config [8/19]\n",
      "Running step: step_minimize_bit_width [9/19]\n",
      "Running step: step_generate_estimate_reports [10/19]\n",
      "Running step: step_hw_codegen [11/19]\n",
      "Running step: step_hw_ipgen [12/19]\n",
      "Running step: step_set_fifo_depths [13/19]\n",
      "Running step: step_create_stitched_ip [14/19]\n",
      "Running step: step_measure_rtlsim_performance [15/19]\n",
      "Running step: step_out_of_context_synthesis [16/19]\n",
      "Running step: step_synthesize_bitfile [17/19]\n",
      "Running step: step_make_pynq_driver [18/19]\n",
      "Running step: step_deployment_package [19/19]\n",
      "Completed successfully\n",
      "CPU times: user 13.8 s, sys: 588 ms, total: 14.4 s\n",
      "Wall time: 6h 8min 37s\n"
     ]
    },
    {
     "data": {
      "text/plain": [
       "0"
      ]
     },
     "execution_count": 5,
     "metadata": {},
     "output_type": "execute_result"
    }
   ],
   "source": [
    "%%time\n",
    "build.build_dataflow_cfg(model_file, cfg)"
   ]
  },
  {
   "cell_type": "markdown",
   "id": "da0e0137-606d-4b91-b790-cf85ff7c7028",
   "metadata": {},
   "source": [
    "# Run on PYNQ\n",
    "Now we're going to copy the bitfile we just generated and move it into the pynq-deployment directory I've created. Once we've done this we can zip it, upload it to the jupyter_notebooks directory on your pynq device, unzip it and follow the last notebook. For more info on PYNQ I would recommend [this tutorial](https://www.hackster.io/90432/programming-python-on-zynq-fpga-ec4712)."
   ]
  },
  {
   "cell_type": "code",
   "execution_count": 6,
   "id": "dd893ea9-e8dc-439e-832a-660520c4d0f3",
   "metadata": {},
   "outputs": [
    {
     "name": "stdout",
     "output_type": "stream",
     "text": [
      "auto_folding_config.json  intermediate_models\n",
      "bitfile\t\t\t  report\n",
      "build_dataflow.log\t  template_specialize_layers_config.json\n",
      "final_hw_config.json\t  time_per_step.json\n"
     ]
    }
   ],
   "source": [
    "# Show the output directory\n",
    "! ls $out_dir"
   ]
  },
  {
   "cell_type": "code",
   "execution_count": 7,
   "id": "3a331a0f-0dd3-472e-9b7e-7aa25f723d7a",
   "metadata": {},
   "outputs": [],
   "source": [
    "bitfile_path = out_dir + \"/bitfile/\""
   ]
  },
  {
   "cell_type": "code",
   "execution_count": null,
   "id": "1e6b8324-9f39-4841-bd25-21fa0ad8a18f",
   "metadata": {},
   "outputs": [],
   "source": [
    "# Copy the bitfile directory into the pynq-deployment folder\n",
    "! cp -r $bitfile_path ./pynq-deployment/your-bitfile/"
   ]
  },
  {
   "cell_type": "code",
   "execution_count": 9,
   "id": "1724a723-8821-40e9-8db6-07fed604b328",
   "metadata": {},
   "outputs": [
    {
     "name": "stdout",
     "output_type": "stream",
     "text": [
      "updating: pynq-deployment/ (stored 0%)\n",
      "updating: pynq-deployment/finn/ (stored 0%)\n",
      "updating: pynq-deployment/finn/util/ (stored 0%)\n",
      "updating: pynq-deployment/finn/util/data_packing.py (deflated 70%)\n",
      "updating: pynq-deployment/finn/util/__init__.py (stored 0%)\n",
      "updating: pynq-deployment/data/ (stored 0%)\n",
      "updating: pynq-deployment/data/subject3_test_Y.npy (deflated 87%)\n",
      "updating: pynq-deployment/data/subject3_test_X.npy (deflated 89%)\n",
      "updating: pynq-deployment/driver.py (deflated 59%)\n",
      "updating: pynq-deployment/driver_base.py (deflated 74%)\n",
      "updating: pynq-deployment/example-bitfile/ (stored 0%)\n",
      "updating: pynq-deployment/example-bitfile/finn-accel.bit (deflated 76%)\n",
      "updating: pynq-deployment/example-bitfile/finn-accel.hwh (deflated 91%)\n",
      "updating: pynq-deployment/bitfile/ (stored 0%)\n",
      "updating: pynq-deployment/bitfile/finn-accel.bit (deflated 76%)\n",
      "updating: pynq-deployment/bitfile/finn-accel.hwh (deflated 91%)\n",
      "updating: pynq-deployment/runtime_weights/ (stored 0%)\n",
      "updating: pynq-deployment/qonnx/ (stored 0%)\n",
      "updating: pynq-deployment/qonnx/util/ (stored 0%)\n",
      "updating: pynq-deployment/qonnx/util/basic.py (deflated 65%)\n",
      "updating: pynq-deployment/qonnx/util/__init__.py (stored 0%)\n",
      "updating: pynq-deployment/qonnx/core/ (stored 0%)\n",
      "updating: pynq-deployment/qonnx/core/__init__.py (stored 0%)\n",
      "updating: pynq-deployment/qonnx/core/datatype.py (deflated 75%)\n",
      "updating: pynq-deployment/validate.ipynb (deflated 70%)\n",
      "  adding: pynq-deployment/bitfile2/ (stored 0%)\n",
      "  adding: pynq-deployment/bitfile2/finn-accel.bit (deflated 76%)\n",
      "  adding: pynq-deployment/bitfile2/finn-accel.hwh (deflated 91%)\n",
      "  adding: pynq-deployment/.ipynb_checkpoints/ (stored 0%)\n",
      "  adding: pynq-deployment/.ipynb_checkpoints/driver-checkpoint.py (deflated 59%)\n"
     ]
    }
   ],
   "source": [
    "# Zip the pynq-deployment directory and upload it to your pynq device\n",
    "! zip -r pynq-deployment.zip ./pynq-deployment"
   ]
  },
  {
   "cell_type": "markdown",
   "id": "f35381ee-9421-4871-bfbd-9861632e099a",
   "metadata": {},
   "source": [
    "Once you have the pynq zip file, upload it to your jupyter notebooks directory and unzip it. Then navigate to the 3_validate-model-with-pynq.ipynb notebook to test the accelerator on your device"
   ]
  }
 ],
 "metadata": {
  "kernelspec": {
   "display_name": "Python 3 (ipykernel)",
   "language": "python",
   "name": "python3"
  },
  "language_info": {
   "codemirror_mode": {
    "name": "ipython",
    "version": 3
   },
   "file_extension": ".py",
   "mimetype": "text/x-python",
   "name": "python",
   "nbconvert_exporter": "python",
   "pygments_lexer": "ipython3",
   "version": "3.10.12"
  }
 },
 "nbformat": 4,
 "nbformat_minor": 5
}
