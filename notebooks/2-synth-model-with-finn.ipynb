{
 "cells": [
  {
   "cell_type": "code",
   "execution_count": null,
   "id": "17233ccc-fa2b-4ff1-aacf-6c430eaea488",
   "metadata": {},
   "outputs": [],
   "source": [
    "import finn.builder.build_dataflow as build\n",
    "import finn.builder.build_dataflow_config as build_cfg\n",
    "import os\n",
    "import shutil"
   ]
  },
  {
   "cell_type": "code",
   "execution_count": null,
   "id": "a0563c72-ec59-4cb0-b398-973c186a824c",
   "metadata": {},
   "outputs": [],
   "source": [
    "model_dir = os.environ['ROOT_DIR'] + \"/notebooks\"\n",
    "model_file = model_dir + \"/model.onnx\"\n",
    "\n",
    "out_dir = os.environ['ROOT_DIR'] + \"/outputs/test_output\""
   ]
  },
  {
   "cell_type": "code",
   "execution_count": null,
   "id": "4999fce9-dcc6-4089-9690-ac54b070dfc9",
   "metadata": {},
   "outputs": [],
   "source": [
    "#Delete previous run results if exist\n",
    "if os.path.exists(out_dir):\n",
    "    shutil.rmtree(out_dir)\n",
    "    print(\"Previous run results deleted!\")"
   ]
  },
  {
   "cell_type": "code",
   "execution_count": null,
   "id": "c7021595-ba61-40ee-8fe4-be5aa0c0bc89",
   "metadata": {},
   "outputs": [],
   "source": [
    "print(model_dir)"
   ]
  },
  {
   "cell_type": "code",
   "execution_count": null,
   "id": "4c64ae54-c1a6-40e1-987f-a60fb8a79d25",
   "metadata": {},
   "outputs": [],
   "source": [
    "cfg = build.DataflowBuildConfig(\n",
    "    output_dir=out_dir,\n",
    "    # mvau_wwidth_max=36,\n",
    "    target_fps=150,\n",
    "    synth_clk_period_ns=10.0,\n",
    "    # You can keep board=\"ZCU104\" if you like, but the key is fpga_part:\n",
    "    board=\"ZCU104\",\n",
    "    fpga_part=\"xczu7ev-ffvc1156-2-e\",          # <-- explicit part resolves the error\n",
    "    shell_flow_type=build_cfg.ShellFlowType.VIVADO_ZYNQ,\n",
    "    generate_outputs=[\n",
    "        build_cfg.DataflowOutputType.BITFILE,\n",
    "        build_cfg.DataflowOutputType.PYNQ_DRIVER,\n",
    "        build_cfg.DataflowOutputType.DEPLOYMENT_PACKAGE,\n",
    "    ],\n",
    "    save_intermediate_models=True,              # optional but helpful\n",
    ")"
   ]
  },
  {
   "cell_type": "code",
   "execution_count": null,
   "id": "4ae01303-22f1-4319-91e6-478577beb733",
   "metadata": {},
   "outputs": [],
   "source": [
    "%%time\n",
    "build.build_dataflow_cfg(model_file, cfg)"
   ]
  }
 ],
 "metadata": {
  "kernelspec": {
   "display_name": "Python 3 (ipykernel)",
   "language": "python",
   "name": "python3"
  },
  "language_info": {
   "codemirror_mode": {
    "name": "ipython",
    "version": 3
   },
   "file_extension": ".py",
   "mimetype": "text/x-python",
   "name": "python",
   "nbconvert_exporter": "python",
   "pygments_lexer": "ipython3",
   "version": "3.10.12"
  }
 },
 "nbformat": 4,
 "nbformat_minor": 5
}
