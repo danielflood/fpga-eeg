{
 "cells": [
  {
   "cell_type": "markdown",
   "id": "a28e523f-5967-4a9e-a2eb-3767b0d60fac",
   "metadata": {},
   "source": [
    "# Validate Model on Pynq\n",
    "In this last step we're going to check if we can get the same accuracy as what we observed in 1-train-model-with-brevitas.ipynb. In my case, the accuracy I observed was 0.68."
   ]
  },
  {
   "cell_type": "code",
   "execution_count": 1,
   "id": "961a2f71",
   "metadata": {},
   "outputs": [],
   "source": [
    "import numpy as np\n",
    "from driver import io_shape_dict\n",
    "from driver_base import FINNExampleOverlay"
   ]
  },
  {
   "cell_type": "code",
   "execution_count": 2,
   "id": "7e0c4624",
   "metadata": {},
   "outputs": [],
   "source": [
    "bsize = 100 # Full test set\n",
    "platform = \"zynq-iodma\" # My device\n",
    "\n",
    "# Subject 3's data, I already quantized this in the same way that's done in models/quant_deep4.py\n",
    "test_data = np.load('./data/subject3_test_X.npy').astype('int8')\n",
    "labels = np.load('./data/subject3_test_Y.npy')\n",
    "\n",
    "# My example bitfile, feel free to use your own and check it's accuracy\n",
    "bitfile = \"./bitfile/finn-accel.bit\"\n",
    "# bitfile = \"./your-bitfile/finn-accel.bit\""
   ]
  },
  {
   "cell_type": "code",
   "execution_count": 3,
   "id": "2f6f58ff",
   "metadata": {},
   "outputs": [
    {
     "data": {
      "application/javascript": [
       "\n",
       "try {\n",
       "require(['notebook/js/codecell'], function(codecell) {\n",
       "  codecell.CodeCell.options_default.highlight_modes[\n",
       "      'magic_text/x-csrc'] = {'reg':[/^%%microblaze/]};\n",
       "  Jupyter.notebook.events.one('kernel_ready.Kernel', function(){\n",
       "      Jupyter.notebook.get_cells().map(function(cell){\n",
       "          if (cell.cell_type == 'code'){ cell.auto_highlight(); } }) ;\n",
       "  });\n",
       "});\n",
       "} catch (e) {};\n"
      ]
     },
     "metadata": {},
     "output_type": "display_data"
    },
    {
     "data": {
      "application/javascript": [
       "\n",
       "try {\n",
       "require(['notebook/js/codecell'], function(codecell) {\n",
       "  codecell.CodeCell.options_default.highlight_modes[\n",
       "      'magic_text/x-csrc'] = {'reg':[/^%%pybind11/]};\n",
       "  Jupyter.notebook.events.one('kernel_ready.Kernel', function(){\n",
       "      Jupyter.notebook.get_cells().map(function(cell){\n",
       "          if (cell.cell_type == 'code'){ cell.auto_highlight(); } }) ;\n",
       "  });\n",
       "});\n",
       "} catch (e) {};\n"
      ]
     },
     "metadata": {},
     "output_type": "display_data"
    }
   ],
   "source": [
    "driver = FINNExampleOverlay(\n",
    "    bitfile_name=bitfile,\n",
    "    platform=platform,\n",
    "    io_shape_dict=io_shape_dict,\n",
    "    batch_size=bsize,\n",
    "    runtime_weight_dir=\"runtime_weights/\",\n",
    ")"
   ]
  },
  {
   "cell_type": "code",
   "execution_count": 4,
   "id": "f3acce4e",
   "metadata": {},
   "outputs": [],
   "source": [
    "# Create an empty buffer for receiving data from the device\n",
    "obuf_packed = np.empty_like(driver.obuf_packed_device[0])"
   ]
  },
  {
   "cell_type": "code",
   "execution_count": 5,
   "id": "29385c27",
   "metadata": {},
   "outputs": [
    {
     "name": "stdout",
     "output_type": "stream",
     "text": [
      "CPU times: user 575 ms, sys: 39.6 ms, total: 614 ms\n",
      "Wall time: 612 ms\n"
     ]
    }
   ],
   "source": [
    "%%time\n",
    "ibuf_folded = driver.fold_input(test_data[0:bsize])\n",
    "ibuf_packed = driver.pack_input(ibuf_folded)\n",
    "driver.copy_input_data_to_device(ibuf_packed)\n",
    "driver.execute_on_buffers()\n",
    "driver.copy_output_data_from_device(obuf_packed)\n",
    "obuf_folded = driver.unpack_output(obuf_packed)\n",
    "obuf_normal = driver.unfold_output(obuf_folded)"
   ]
  },
  {
   "cell_type": "code",
   "execution_count": 6,
   "id": "14971e74",
   "metadata": {},
   "outputs": [],
   "source": [
    "pred_classes = np.argmax(obuf_normal, axis=-1).reshape(-1)"
   ]
  },
  {
   "cell_type": "code",
   "execution_count": 7,
   "id": "0841c7ee",
   "metadata": {},
   "outputs": [
    {
     "name": "stdout",
     "output_type": "stream",
     "text": [
      "Accuracy: 0.68\n"
     ]
    }
   ],
   "source": [
    "# Compute accuracy\n",
    "accuracy = np.mean(pred_classes == labels)\n",
    "print(\"Accuracy:\", accuracy)"
   ]
  }
 ],
 "metadata": {
  "kernelspec": {
   "display_name": "Python 3 (ipykernel)",
   "language": "python",
   "name": "python3"
  },
  "language_info": {
   "codemirror_mode": {
    "name": "ipython",
    "version": 3
   },
   "file_extension": ".py",
   "mimetype": "text/x-python",
   "name": "python",
   "nbconvert_exporter": "python",
   "pygments_lexer": "ipython3",
   "version": "3.10.12"
  }
 },
 "nbformat": 4,
 "nbformat_minor": 5
}
