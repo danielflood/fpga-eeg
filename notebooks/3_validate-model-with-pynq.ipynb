{
 "cells": [
  {
   "cell_type": "code",
   "execution_count": null,
   "id": "961a2f71",
   "metadata": {},
   "outputs": [],
   "source": [
    "import numpy as np\n",
    "from driver import io_shape_dict\n",
    "from driver_base import FINNExampleOverlay"
   ]
  },
  {
   "cell_type": "code",
   "execution_count": 2,
   "id": "7e0c4624",
   "metadata": {},
   "outputs": [],
   "source": [
    "bsize = 100\n",
    "test_data = np.load('data.npy').astype('int8')\n",
    "labels = np.load('labels.npy')\n",
    "bitfile = \"../bitfile/finn-accel.bit\"\n",
    "platform = \"zynq-iodma\""
   ]
  },
  {
   "cell_type": "code",
   "execution_count": 3,
   "id": "fa83ac8b",
   "metadata": {},
   "outputs": [
    {
     "data": {
      "text/plain": [
       "(100, 1000, 1, 62)"
      ]
     },
     "execution_count": 3,
     "metadata": {},
     "output_type": "execute_result"
    }
   ],
   "source": [
    "test_data.shape"
   ]
  },
  {
   "cell_type": "code",
   "execution_count": 4,
   "id": "2f6f58ff",
   "metadata": {},
   "outputs": [
    {
     "data": {
      "application/javascript": "\ntry {\nrequire(['notebook/js/codecell'], function(codecell) {\n  codecell.CodeCell.options_default.highlight_modes[\n      'magic_text/x-csrc'] = {'reg':[/^%%microblaze/]};\n  Jupyter.notebook.events.one('kernel_ready.Kernel', function(){\n      Jupyter.notebook.get_cells().map(function(cell){\n          if (cell.cell_type == 'code'){ cell.auto_highlight(); } }) ;\n  });\n});\n} catch (e) {};\n"
     },
     "metadata": {},
     "output_type": "display_data"
    },
    {
     "data": {
      "application/javascript": "\ntry {\nrequire(['notebook/js/codecell'], function(codecell) {\n  codecell.CodeCell.options_default.highlight_modes[\n      'magic_text/x-csrc'] = {'reg':[/^%%pybind11/]};\n  Jupyter.notebook.events.one('kernel_ready.Kernel', function(){\n      Jupyter.notebook.get_cells().map(function(cell){\n          if (cell.cell_type == 'code'){ cell.auto_highlight(); } }) ;\n  });\n});\n} catch (e) {};\n"
     },
     "metadata": {},
     "output_type": "display_data"
    }
   ],
   "source": [
    "driver = FINNExampleOverlay(\n",
    "    bitfile_name=bitfile,\n",
    "    platform=platform,\n",
    "    io_shape_dict=io_shape_dict,\n",
    "    batch_size=bsize,\n",
    "    runtime_weight_dir=\"runtime_weights/\",\n",
    ")"
   ]
  },
  {
   "cell_type": "code",
   "execution_count": 5,
   "id": "f3acce4e",
   "metadata": {},
   "outputs": [],
   "source": [
    "obuf_packed = np.empty_like(driver.obuf_packed_device[0])"
   ]
  },
  {
   "cell_type": "code",
   "execution_count": 6,
   "id": "29385c27",
   "metadata": {},
   "outputs": [
    {
     "name": "stdout",
     "output_type": "stream",
     "text": [
      "CPU times: user 692 ms, sys: 11 ms, total: 703 ms\n",
      "Wall time: 702 ms\n"
     ]
    }
   ],
   "source": [
    "%%time\n",
    "ibuf_folded = driver.fold_input(test_data)\n",
    "ibuf_packed = driver.pack_input(ibuf_folded)\n",
    "driver.copy_input_data_to_device(ibuf_packed)\n",
    "driver.execute_on_buffers()\n",
    "driver.copy_output_data_from_device(obuf_packed)\n",
    "obuf_folded = driver.unpack_output(obuf_packed)\n",
    "obuf_normal = driver.unfold_output(obuf_folded)"
   ]
  },
  {
   "cell_type": "code",
   "execution_count": 9,
   "id": "14971e74",
   "metadata": {},
   "outputs": [],
   "source": [
    "pred_classes = np.argmax(obuf_normal, axis=-1).reshape(-1)"
   ]
  },
  {
   "cell_type": "code",
   "execution_count": 10,
   "id": "0841c7ee",
   "metadata": {},
   "outputs": [
    {
     "name": "stdout",
     "output_type": "stream",
     "text": [
      "Accuracy: 0.71\n"
     ]
    }
   ],
   "source": [
    "# Compute accuracy\n",
    "accuracy = np.mean(pred_classes == labels)\n",
    "print(\"Accuracy:\", accuracy)"
   ]
  }
 ],
 "metadata": {
  "kernelspec": {
   "display_name": "Python 3 (ipykernel)",
   "language": "python",
   "name": "python3"
  },
  "language_info": {
   "codemirror_mode": {
    "name": "ipython",
    "version": 3
   },
   "file_extension": ".py",
   "mimetype": "text/x-python",
   "name": "python",
   "nbconvert_exporter": "python",
   "pygments_lexer": "ipython3",
   "version": "3.10.12"
  }
 },
 "nbformat": 4,
 "nbformat_minor": 5
}
